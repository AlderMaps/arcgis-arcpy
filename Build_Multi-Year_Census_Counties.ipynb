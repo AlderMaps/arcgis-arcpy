{
 "cells": [
  {
   "cell_type": "code",
   "execution_count": 1,
   "id": "2a20aae6",
   "metadata": {},
   "outputs": [],
   "source": [
    "# Imports\n",
    "\n",
    "import os\n",
    "\n",
    "from zipfile import ZipFile\n",
    "\n",
    "import arcpy"
   ]
  },
  {
   "cell_type": "code",
   "execution_count": 2,
   "id": "b6f61d5b",
   "metadata": {},
   "outputs": [],
   "source": [
    "# Vars\n",
    "\n",
    "base_dir = r\"C:\\Users\\Misti\\OneDrive\\PROJECTS\\2025_08_Multi-Year_Census_Counties\"\n",
    "\n",
    "output_gdb = r\"2025_08_Multi-Year_Census_Counties.gdb\"\n",
    "\n",
    "output_fc = \"multi_year_census_counties\"\n",
    "\n",
    "zip_dir_name = r\"Zipped\"\n",
    "unzip_dir_name = r\"Unzipped\"\n",
    "\n",
    "found_fcs = []\n",
    "year_fcs_dict = {}\n",
    "\n",
    "# Derived vars\n",
    "\n",
    "full_output_gdb = os.path.join(base_dir, output_gdb)\n",
    "full_output_fc = os.path.join(full_output_gdb, output_fc)\n"
   ]
  },
  {
   "cell_type": "code",
   "execution_count": 3,
   "id": "dccd2fa7",
   "metadata": {},
   "outputs": [],
   "source": [
    "def extract_all_zips():\n",
    "\n",
    "    for file in os.listdir(os.path.join(base_dir, zip_dir_name)):\n",
    "\n",
    "        if not file.endswith(\".zip\"):\n",
    "            continue\n",
    "                        \n",
    "        with ZipFile(os.path.join(base_dir, zip_dir_name, file), 'r') as zip_obj:\n",
    "            zip_obj.extractall(os.path.join(base_dir, unzip_dir_name))\n",
    "\n",
    "# extract_all_zips()"
   ]
  },
  {
   "cell_type": "code",
   "execution_count": 4,
   "id": "89be091c",
   "metadata": {},
   "outputs": [
    {
     "name": "stdout",
     "output_type": "stream",
     "text": [
      "Yay! Found a 'County' FC in all gdbs!\n"
     ]
    }
   ],
   "source": [
    "def get_counties():\n",
    "\n",
    "    unfound = 0\n",
    "    unfound_gdbs = []\n",
    "\n",
    "    # Reset list in case of multiple script/block runs (duplicate paths not needed LOL)\n",
    "    found_fcs.clear()\n",
    "\n",
    "    for file in os.listdir(os.path.join(base_dir, unzip_dir_name)):\n",
    "\n",
    "        if not file.endswith(\".gdb\"):\n",
    "            continue\n",
    "\n",
    "        gdb = os.path.join(base_dir, unzip_dir_name, file)\n",
    "        arcpy.env.workspace = gdb\n",
    "        \n",
    "        if not \"County\" in arcpy.ListFeatureClasses():\n",
    "            unfound +=1\n",
    "            unfound_gdbs.append(gdb)\n",
    "        else:\n",
    "            found_fcs.append(os.path.join(base_dir, unzip_dir_name, file, \"County\"))\n",
    "\n",
    "    if unfound:\n",
    "        print(f\"Heads up! Didn't find a 'County' FC in these GDBs: {unfound_gdbs}\")\n",
    "    else:\n",
    "        print(\"Yay! Found a 'County' FC in all gdbs!\")\n",
    "\n",
    "    return found_fcs\n",
    "\n",
    "found_fcs = get_counties()\n"
   ]
  },
  {
   "cell_type": "code",
   "execution_count": 5,
   "id": "33cf4311",
   "metadata": {},
   "outputs": [],
   "source": [
    "def create_dict(year_fcs_dict):\n",
    "\n",
    "    # Resetting intermediate and final lists/dicts\n",
    "    # While testing/developing\n",
    "    pre_dict = {}\n",
    "    pre_list = []\n",
    "\n",
    "    year_fcs_dict.clear()\n",
    "\n",
    "    for fc in found_fcs:\n",
    "\n",
    "        year = fc.split(\"tlgdb_\")[1].split(\"_a_\")[0]\n",
    "        pre_dict[year] = fc\n",
    "\n",
    "    pre_list = sorted(pre_dict.items(), reverse=True)\n",
    "    year_fcs_dict = dict(pre_list)\n",
    "\n",
    "    return year_fcs_dict\n",
    "\n",
    "year_fcs_dict = create_dict(year_fcs_dict)"
   ]
  },
  {
   "cell_type": "code",
   "execution_count": 6,
   "id": "8a5dafb3",
   "metadata": {},
   "outputs": [
    {
     "name": "stdout",
     "output_type": "stream",
     "text": [
      "Yay! Output GDB already exists.\n",
      "Yay! Output feature class already exists.\n"
     ]
    },
    {
     "data": {
      "text/plain": [
       "'C:\\\\Users\\\\Misti\\\\OneDrive\\\\PROJECTS\\\\2025_08_Multi-Year_Census_Counties\\\\2025_08_Multi-Year_Census_Counties.gdb\\\\multi_year_census_counties'"
      ]
     },
     "execution_count": 6,
     "metadata": {},
     "output_type": "execute_result"
    }
   ],
   "source": [
    "def create_output():\n",
    "\n",
    "    # Bastards added a field by the time you get to 2025\n",
    "    # My insert cursor was failing because we initially just used\n",
    "    # the first full path in the list.\n",
    "    # I think it's more likely they'll add fields than remove them,\n",
    "    # So to try to ensure all fields needed are present for the insert cursor,\n",
    "    # Getting the NEWEST gdb schema as the template here.\n",
    "    \n",
    "    template_fc = year_fcs_dict[max(year_fcs_dict.keys())]\n",
    "\n",
    "    spatial_ref = arcpy.Describe(template_fc).spatialReference\n",
    "\n",
    "    if not arcpy.Exists(full_output_gdb):\n",
    "        print(\"Creating output GDB...\")\n",
    "        arcpy.management.CreateFileGDB(base_dir, output_gdb)\n",
    "    else:\n",
    "        print(\"Yay! Output GDB already exists.\")\n",
    "\n",
    "    if not arcpy.Exists(full_output_fc):\n",
    "        print(\"Creating output feature class...\")\n",
    "        arcpy.management.CreateFeatureclass(full_output_gdb, output_fc, \"POLYGON\", template=template_fc, spatial_reference=spatial_ref)\n",
    "    else:\n",
    "        print(\"Yay! Output feature class already exists.\")\n",
    "\n",
    "    return full_output_fc\n",
    "\n",
    "create_output()"
   ]
  },
  {
   "cell_type": "code",
   "execution_count": 7,
   "id": "2e3d7a6f",
   "metadata": {},
   "outputs": [
    {
     "name": "stdout",
     "output_type": "stream",
     "text": [
      "Field 'Census_Year' alread exists! Moving on...\n"
     ]
    }
   ],
   "source": [
    "def add_year_field():\n",
    "    \n",
    "    # I wouldn't technically have to do this bit because\n",
    "    # If the field already exists, arcpy will just do nothing and move on...\n",
    "    if not \"Census_Year\" in (f.name for f in arcpy.ListFields(full_output_fc)):\n",
    "        \n",
    "        print(\"Adding 'Census_Year' field\")\n",
    "        arcpy.management.AddField(full_output_fc, \"Census_Year\", \"SHORT\", field_length=4, field_alias=\"Census Year\")\n",
    "\n",
    "    else:\n",
    "        print(\"Field 'Census_Year' alread exists! Moving on...\")\n",
    "\n",
    "add_year_field()"
   ]
  },
  {
   "cell_type": "code",
   "execution_count": null,
   "id": "5886d09b",
   "metadata": {},
   "outputs": [
    {
     "name": "stdout",
     "output_type": "stream",
     "text": [
      "['COUNTYNS', 'GEOID', 'GEOIDFQ', 'NAMELSAD', 'CLASSFP', 'FUNCSTAT', 'ALAND', 'AWATER', 'INTPTLAT', 'INTPTLON', 'OBJECTID', 'SHAPE']\n",
      "['COUNTYNS', 'GEOID', 'GEOIDFQ', 'NAMELSAD', 'CLASSFP', 'FUNCSTAT', 'ALAND', 'AWATER', 'INTPTLAT', 'INTPTLON', 'OBJECTID', 'SHAPE']\n",
      "['COUNTYNS', 'GEOID', 'GEOIDFQ', 'NAMELSAD', 'CLASSFP', 'FUNCSTAT', 'ALAND', 'AWATER', 'INTPTLAT', 'INTPTLON', 'OBJECTID', 'SHAPE']\n",
      "['COUNTYNS', 'GEOID', 'NAMELSAD', 'CLASSFP', 'FUNCSTAT', 'ALAND', 'AWATER', 'INTPTLAT', 'INTPTLON', 'OBJECTID', 'SHAPE']\n",
      "['COUNTYNS', 'GEOID', 'NAMELSAD', 'CLASSFP', 'FUNCSTAT', 'ALAND', 'AWATER', 'INTPTLAT', 'INTPTLON', 'OBJECTID', 'SHAPE']\n",
      "Hey found a new county to add in! Year: 2021; GEOID: 09001\n",
      "Hey found a new county to add in! Year: 2021; GEOID: 09003\n",
      "Hey found a new county to add in! Year: 2021; GEOID: 09005\n",
      "Hey found a new county to add in! Year: 2021; GEOID: 09007\n",
      "Hey found a new county to add in! Year: 2021; GEOID: 09009\n",
      "Hey found a new county to add in! Year: 2021; GEOID: 09011\n",
      "Hey found a new county to add in! Year: 2021; GEOID: 09013\n",
      "Hey found a new county to add in! Year: 2021; GEOID: 09015\n",
      "['COUNTYNS', 'GEOID', 'NAMELSAD', 'CLASSFP', 'FUNCSTAT', 'ALAND', 'AWATER', 'INTPTLAT', 'INTPTLON', 'OBJECTID', 'SHAPE']\n",
      "['COUNTYNS', 'GEOID', 'NAMELSAD', 'CLASSFP', 'FUNCSTAT', 'ALAND', 'AWATER', 'INTPTLAT', 'INTPTLON', 'OBJECTID', 'SHAPE']\n",
      "Hey found a new county to add in! Year: 2019; GEOID: 02261\n",
      "['COUNTYNS', 'GEOID', 'NAMELSAD', 'CLASSFP', 'FUNCSTAT', 'ALAND', 'AWATER', 'INTPTLAT', 'INTPTLON', 'OBJECTID', 'SHAPE']\n",
      "['COUNTYNS', 'GEOID', 'NAMELSAD', 'CLASSFP', 'FUNCSTAT', 'ALAND', 'AWATER', 'INTPTLAT', 'INTPTLON', 'OBJECTID', 'SHAPE']\n",
      "['COUNTYNS', 'GEOID', 'NAMELSAD', 'CLASSFP', 'FUNCSTAT', 'ALAND', 'AWATER', 'INTPTLAT', 'INTPTLON', 'OBJECTID', 'SHAPE']\n",
      "['COUNTYNS', 'GEOID', 'NAMELSAD', 'CLASSFP', 'FUNCSTAT', 'ALAND', 'AWATER', 'INTPTLAT', 'INTPTLON', 'OBJECTID', 'SHAPE']\n",
      "['COUNTYNS', 'GEOID', 'NAMELSAD', 'CLASSFP', 'FUNCSTAT', 'ALAND', 'AWATER', 'INTPTLAT', 'INTPTLON', 'OBJECTID', 'SHAPE']\n",
      "Hey found a new county to add in! Year: 2014; GEOID: 02270\n",
      "Hey found a new county to add in! Year: 2014; GEOID: 46113\n",
      "['COUNTYNS', 'GEOID', 'NAMELSAD', 'CLASSFP', 'FUNCSTAT', 'ALAND', 'AWATER', 'INTPTLAT', 'INTPTLON', 'OBJECTID', 'SHAPE']\n",
      "Hey found a new county to add in! Year: 2013; GEOID: 51515\n",
      "Hey found a new county to add in! Year: 2013; GEOID: 74300\n"
     ]
    }
   ],
   "source": [
    "def insert_counties(year_fcs_dict):\n",
    "\n",
    "    initial = 0\n",
    "\n",
    "    for year, fc in year_fcs_dict.items():\n",
    "\n",
    "        geoIDs = [row[0] for row in arcpy.da.SearchCursor(full_output_fc, \"GEOID\")]\n",
    "\n",
    "        # YOU ARE HERE - ADD SEARCH FOR GEOMETRY CHANGE IN COUNTY BOUNDARIES!!\n",
    "        shapes = [row[0] for row in arcpy.da.SearchCursor(full_output_fc, \"SHAPE@\")]\n",
    "\n",
    "\n",
    "\n",
    "\n",
    "\n",
    "\n",
    "        fields = [f.name for f in arcpy.ListFields(fc)]\n",
    "\n",
    "        with arcpy.da.SearchCursor(fc, [fields, \"SHAPE@\"]) as scursor:\n",
    "            for row in scursor:\n",
    "                if row[fields.index(\"GEOID\")] in geoIDs:\n",
    "                    continue\n",
    "                with arcpy.da.InsertCursor(full_output_fc, [fields, \"SHAPE@\"]) as icursor:\n",
    "                    if initial: \n",
    "                        print(f\"Hey found a new county to add in! Year: {year}; GEOID: {row[fields.index('GEOID')]}\")\n",
    "                    icursor.insertRow(row)\n",
    "\n",
    "        initial +=1\n",
    "\n",
    "insert_counties(year_fcs_dict)"
   ]
  },
  {
   "cell_type": "code",
   "execution_count": null,
   "id": "864ae6bd",
   "metadata": {},
   "outputs": [],
   "source": [
    "# EVERYTHING BELOW THIS BLOCK IS NOT PART OF THE ACTUAL SCRIPT!! TESTING / DEV BLOCKS ONLY!!"
   ]
  },
  {
   "cell_type": "code",
   "execution_count": 16,
   "id": "aca71f8f",
   "metadata": {},
   "outputs": [],
   "source": [
    "# FOR USE WHILE BUILDING SCRIPT AND TROUBLESHOOTING ONLY!!!\n",
    "\n",
    "def truncate_table():\n",
    "    \n",
    "    arcpy.management.TruncateTable(full_output_fc)\n",
    "\n",
    "truncate_table()"
   ]
  }
 ],
 "metadata": {
  "kernelspec": {
   "display_name": "arcgispro-py3",
   "language": "python",
   "name": "python3"
  },
  "language_info": {
   "codemirror_mode": {
    "name": "ipython",
    "version": 3
   },
   "file_extension": ".py",
   "mimetype": "text/x-python",
   "name": "python",
   "nbconvert_exporter": "python",
   "pygments_lexer": "ipython3",
   "version": "3.11.11"
  }
 },
 "nbformat": 4,
 "nbformat_minor": 5
}
