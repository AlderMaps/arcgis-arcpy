{
 "cells": [
  {
   "cell_type": "code",
   "execution_count": 84,
   "id": "2a20aae6",
   "metadata": {},
   "outputs": [],
   "source": [
    "# Imports\n",
    "\n",
    "import os\n",
    "\n",
    "from zipfile import ZipFile\n",
    "\n",
    "import arcpy"
   ]
  },
  {
   "cell_type": "code",
   "execution_count": 85,
   "id": "b6f61d5b",
   "metadata": {},
   "outputs": [],
   "source": [
    "# Vars\n",
    "\n",
    "base_dir = r\"C:\\Users\\Misti\\OneDrive\\PROJECTS\\2025_08_Multi-Year_Census_Counties\"\n",
    "\n",
    "output_gdb = r\"2025_08_Multi-Year_Census_Counties.gdb\"\n",
    "\n",
    "output_fc = \"multi_year_census_counties\"\n",
    "\n",
    "zip_dir_name = r\"Zipped\"\n",
    "\n",
    "unzip_dir_name = r\"Unzipped\"\n",
    "\n",
    "found_fcs = []"
   ]
  },
  {
   "cell_type": "code",
   "execution_count": 86,
   "id": "ae586f87",
   "metadata": {},
   "outputs": [],
   "source": [
    "# Derived vars\n",
    "\n",
    "full_output_gdb = os.path.join(base_dir, output_gdb)\n",
    "\n",
    "full_output_fc = os.path.join(full_output_gdb, output_fc)\n"
   ]
  },
  {
   "cell_type": "code",
   "execution_count": 87,
   "id": "dccd2fa7",
   "metadata": {},
   "outputs": [],
   "source": [
    "def extract_all_zips():\n",
    "\n",
    "    for file in os.listdir(os.path.join(base_dir, zip_dir_name)):\n",
    "\n",
    "        if not file.endswith(\".zip\"):\n",
    "            continue\n",
    "                        \n",
    "        with ZipFile(os.path.join(base_dir, zip_dir_name, file), 'r') as zip_obj:\n",
    "            zip_obj.extractall(os.path.join(base_dir, unzip_dir_name))\n",
    "\n",
    "# extract_all_zips()"
   ]
  },
  {
   "cell_type": "code",
   "execution_count": 91,
   "id": "89be091c",
   "metadata": {},
   "outputs": [
    {
     "name": "stdout",
     "output_type": "stream",
     "text": [
      "Yay! Found a 'County' FC in all gdbs!\n"
     ]
    },
    {
     "data": {
      "text/plain": [
       "['C:\\\\Users\\\\Misti\\\\OneDrive\\\\PROJECTS\\\\2025_08_Multi-Year_Census_Counties\\\\Unzipped\\\\tlgdb_2013_a_us_substategeo.gdb\\\\County',\n",
       " 'C:\\\\Users\\\\Misti\\\\OneDrive\\\\PROJECTS\\\\2025_08_Multi-Year_Census_Counties\\\\Unzipped\\\\tlgdb_2014_a_us_substategeo.gdb\\\\County',\n",
       " 'C:\\\\Users\\\\Misti\\\\OneDrive\\\\PROJECTS\\\\2025_08_Multi-Year_Census_Counties\\\\Unzipped\\\\tlgdb_2015_a_us_substategeo.gdb\\\\County',\n",
       " 'C:\\\\Users\\\\Misti\\\\OneDrive\\\\PROJECTS\\\\2025_08_Multi-Year_Census_Counties\\\\Unzipped\\\\tlgdb_2016_a_us_substategeo.gdb\\\\County',\n",
       " 'C:\\\\Users\\\\Misti\\\\OneDrive\\\\PROJECTS\\\\2025_08_Multi-Year_Census_Counties\\\\Unzipped\\\\tlgdb_2017_a_us_substategeo.gdb\\\\County',\n",
       " 'C:\\\\Users\\\\Misti\\\\OneDrive\\\\PROJECTS\\\\2025_08_Multi-Year_Census_Counties\\\\Unzipped\\\\tlgdb_2018_a_us_substategeo.gdb\\\\County',\n",
       " 'C:\\\\Users\\\\Misti\\\\OneDrive\\\\PROJECTS\\\\2025_08_Multi-Year_Census_Counties\\\\Unzipped\\\\tlgdb_2019_a_us_substategeo.gdb\\\\County',\n",
       " 'C:\\\\Users\\\\Misti\\\\OneDrive\\\\PROJECTS\\\\2025_08_Multi-Year_Census_Counties\\\\Unzipped\\\\tlgdb_2020_a_us_substategeo.gdb\\\\County',\n",
       " 'C:\\\\Users\\\\Misti\\\\OneDrive\\\\PROJECTS\\\\2025_08_Multi-Year_Census_Counties\\\\Unzipped\\\\tlgdb_2021_a_us_substategeo.gdb\\\\County',\n",
       " 'C:\\\\Users\\\\Misti\\\\OneDrive\\\\PROJECTS\\\\2025_08_Multi-Year_Census_Counties\\\\Unzipped\\\\tlgdb_2022_a_us_substategeo.gdb\\\\County',\n",
       " 'C:\\\\Users\\\\Misti\\\\OneDrive\\\\PROJECTS\\\\2025_08_Multi-Year_Census_Counties\\\\Unzipped\\\\tlgdb_2023_a_us_substategeo.gdb\\\\County',\n",
       " 'C:\\\\Users\\\\Misti\\\\OneDrive\\\\PROJECTS\\\\2025_08_Multi-Year_Census_Counties\\\\Unzipped\\\\tlgdb_2024_a_us_substategeo.gdb\\\\County',\n",
       " 'C:\\\\Users\\\\Misti\\\\OneDrive\\\\PROJECTS\\\\2025_08_Multi-Year_Census_Counties\\\\Unzipped\\\\tlgdb_2025_a_us_substategeo.gdb\\\\County']"
      ]
     },
     "execution_count": 91,
     "metadata": {},
     "output_type": "execute_result"
    }
   ],
   "source": [
    "def get_counties():\n",
    "\n",
    "    unfound = 0\n",
    "    unfound_gdbs = []\n",
    "\n",
    "    # Reset list in case of multiple script/block runs (duplicate paths not needed LOL)\n",
    "    found_fcs = []\n",
    "\n",
    "    for file in os.listdir(os.path.join(base_dir, unzip_dir_name)):\n",
    "\n",
    "        if not file.endswith(\".gdb\"):\n",
    "            continue\n",
    "\n",
    "        gdb = os.path.join(base_dir, unzip_dir_name, file)\n",
    "        arcpy.env.workspace = gdb\n",
    "        \n",
    "        if not \"County\" in arcpy.ListFeatureClasses():\n",
    "            unfound +=1\n",
    "            unfound_gdbs.append(gdb)\n",
    "        else:\n",
    "            found_fcs.append(os.path.join(base_dir, unzip_dir_name, file, \"County\"))\n",
    "\n",
    "\n",
    "    if unfound:\n",
    "        print(f\"Heads up! Didn't find a 'County' FC in these GDBs: {unfound_gdbs}\")\n",
    "    else:\n",
    "        print(\"Yay! Found a 'County' FC in all gdbs!\")\n",
    "\n",
    "    return found_fcs\n",
    "\n",
    "get_counties()"
   ]
  },
  {
   "cell_type": "code",
   "execution_count": null,
   "id": "33cf4311",
   "metadata": {},
   "outputs": [],
   "source": [
    "def create_dict():\n",
    "\n",
    "    \n",
    "\n",
    "create_dict()"
   ]
  },
  {
   "cell_type": "code",
   "execution_count": null,
   "id": "8a5dafb3",
   "metadata": {},
   "outputs": [
    {
     "ename": "TypeError",
     "evalue": "create_output() takes 0 positional arguments but 1 was given",
     "output_type": "error",
     "traceback": [
      "\u001b[1;31m---------------------------------------------------------------------------\u001b[0m",
      "\u001b[1;31mTypeError\u001b[0m                                 Traceback (most recent call last)",
      "Cell \u001b[1;32mIn[89], line 17\u001b[0m\n\u001b[0;32m     14\u001b[0m     \u001b[38;5;28;01melse\u001b[39;00m:\n\u001b[0;32m     15\u001b[0m         \u001b[38;5;28mprint\u001b[39m(\u001b[38;5;124m\"\u001b[39m\u001b[38;5;124mYay! Output feature class already exists.\u001b[39m\u001b[38;5;124m\"\u001b[39m)\n\u001b[1;32m---> 17\u001b[0m create_output(found_fcs)\n",
      "\u001b[1;31mTypeError\u001b[0m: create_output() takes 0 positional arguments but 1 was given"
     ]
    }
   ],
   "source": [
    "def create_output():\n",
    "\n",
    "    spatial_ref = arcpy.Describe(found_fcs[0]).spatialReference\n",
    "\n",
    "    if not arcpy.Exists(full_output_gdb):\n",
    "        print(\"Creating output GDB...\")\n",
    "        arcpy.management.CreateFileGDB(base_dir, output_gdb)\n",
    "    else:\n",
    "        print(\"Yay! Output GDB already exists.\")\n",
    "\n",
    "    if not arcpy.Exists(full_output_fc):\n",
    "        print(\"Creating output feature class...\")\n",
    "        arcpy.management.CreateFeatureclass(full_output_gdb, output_fc, \"POLYGON\", template=found_fcs[0], spatial_reference=spatial_ref)\n",
    "    else:\n",
    "        print(\"Yay! Output feature class already exists.\")\n",
    "\n",
    "create_output()"
   ]
  },
  {
   "cell_type": "code",
   "execution_count": null,
   "id": "2e3d7a6f",
   "metadata": {},
   "outputs": [
    {
     "name": "stdout",
     "output_type": "stream",
     "text": [
      "Field 'Census_Year' alread exists! Moving on...\n"
     ]
    }
   ],
   "source": [
    "def add_year_field():\n",
    "    \n",
    "    # I wouldn't technically have to do this bit because\n",
    "    # If the field already exists, arcpy will just do nothing and move on...\n",
    "    if not \"Census_Year\" in (f.name for f in arcpy.ListFields(full_output_fc)):\n",
    "        \n",
    "        print(\"Adding 'Census_Year' field\")\n",
    "        arcpy.management.AddField(full_output_fc, \"Census_Year\", \"SHORT\", field_length=4, field_alias=\"Census Year\")\n",
    "\n",
    "    else:\n",
    "        print(\"Field 'Census_Year' alread exists! Moving on...\")\n",
    "\n",
    "add_year_field()"
   ]
  },
  {
   "cell_type": "code",
   "execution_count": 81,
   "id": "5886d09b",
   "metadata": {},
   "outputs": [],
   "source": [
    "def append_counties(found_fcs):\n",
    "    \n",
    "    arcpy.management.Append(found_fcs, full_output_fc, schema_type='NO_TEST')\n",
    "\n",
    "append_counties(found_fcs)"
   ]
  },
  {
   "cell_type": "code",
   "execution_count": null,
   "id": "864ae6bd",
   "metadata": {},
   "outputs": [],
   "source": [
    "# EVERYTHING BELOW THIS BLOCK IS NOT PART OF THE ACTUAL SCRIPT!! TESTING / DEV BLOCKS ONLY!!"
   ]
  },
  {
   "cell_type": "code",
   "execution_count": 83,
   "id": "aca71f8f",
   "metadata": {},
   "outputs": [],
   "source": [
    "# FOR USE WHILE BUILDING SCRIPT AND TROUBLESHOOTING ONLY!!!\n",
    "\n",
    "def truncate_table():\n",
    "    \n",
    "    arcpy.management.TruncateTable(full_output_fc)\n",
    "\n",
    "truncate_table()"
   ]
  }
 ],
 "metadata": {
  "kernelspec": {
   "display_name": "arcgispro-py3",
   "language": "python",
   "name": "python3"
  },
  "language_info": {
   "codemirror_mode": {
    "name": "ipython",
    "version": 3
   },
   "file_extension": ".py",
   "mimetype": "text/x-python",
   "name": "python",
   "nbconvert_exporter": "python",
   "pygments_lexer": "ipython3",
   "version": "3.11.11"
  }
 },
 "nbformat": 4,
 "nbformat_minor": 5
}
